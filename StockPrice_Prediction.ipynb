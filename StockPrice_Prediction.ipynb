{
  "nbformat": 4,
  "nbformat_minor": 0,
  "metadata": {
    "colab": {
      "provenance": []
    },
    "kernelspec": {
      "name": "python3",
      "display_name": "Python 3"
    },
    "language_info": {
      "name": "python"
    }
  },
  "cells": [
    {
      "cell_type": "code",
      "execution_count": null,
      "metadata": {
        "id": "3nvy15PAfzMU"
      },
      "outputs": [],
      "source": [
        "import numpy as np\n",
        "import pandas as pd\n",
        "import matplotlib.pyplot as plt\n",
        "from sklearn.preprocessing import MinMaxScaler\n",
        "from tensorflow.keras.models import Sequential\n",
        "from tensorflow.keras.layers import LSTM, Dense\n"
      ]
    },
    {
      "cell_type": "code",
      "source": [
        "# Load the stock price data\n",
        "data = pd.read_csv('upload_DJIA_table.csv')\n",
        "prices = data['Close'].values.reshape(-1, 1)"
      ],
      "metadata": {
        "id": "47zVx913f_xV"
      },
      "execution_count": null,
      "outputs": []
    },
    {
      "cell_type": "code",
      "source": [
        "data.head()"
      ],
      "metadata": {
        "colab": {
          "base_uri": "https://localhost:8080/",
          "height": 206
        },
        "id": "L0HqIQklwP6w",
        "outputId": "a263a7c9-4ca1-4eef-814b-e6eeb6fe5f6a"
      },
      "execution_count": null,
      "outputs": [
        {
          "output_type": "execute_result",
          "data": {
            "text/plain": [
              "         Date          Open          High           Low         Close  \\\n",
              "0  2016-07-01  17924.240234  18002.380859  17916.910156  17949.369141   \n",
              "1  2016-06-30  17712.759766  17930.609375  17711.800781  17929.990234   \n",
              "2  2016-06-29  17456.019531  17704.509766  17456.019531  17694.679688   \n",
              "3  2016-06-28  17190.509766  17409.720703  17190.509766  17409.720703   \n",
              "4  2016-06-27  17355.210938  17355.210938  17063.080078  17140.240234   \n",
              "\n",
              "      Volume     Adj Close  \n",
              "0   82160000  17949.369141  \n",
              "1  133030000  17929.990234  \n",
              "2  106380000  17694.679688  \n",
              "3  112190000  17409.720703  \n",
              "4  138740000  17140.240234  "
            ],
            "text/html": [
              "\n",
              "  <div id=\"df-451b354f-8cdd-44a6-8177-d26989c77c03\">\n",
              "    <div class=\"colab-df-container\">\n",
              "      <div>\n",
              "<style scoped>\n",
              "    .dataframe tbody tr th:only-of-type {\n",
              "        vertical-align: middle;\n",
              "    }\n",
              "\n",
              "    .dataframe tbody tr th {\n",
              "        vertical-align: top;\n",
              "    }\n",
              "\n",
              "    .dataframe thead th {\n",
              "        text-align: right;\n",
              "    }\n",
              "</style>\n",
              "<table border=\"1\" class=\"dataframe\">\n",
              "  <thead>\n",
              "    <tr style=\"text-align: right;\">\n",
              "      <th></th>\n",
              "      <th>Date</th>\n",
              "      <th>Open</th>\n",
              "      <th>High</th>\n",
              "      <th>Low</th>\n",
              "      <th>Close</th>\n",
              "      <th>Volume</th>\n",
              "      <th>Adj Close</th>\n",
              "    </tr>\n",
              "  </thead>\n",
              "  <tbody>\n",
              "    <tr>\n",
              "      <th>0</th>\n",
              "      <td>2016-07-01</td>\n",
              "      <td>17924.240234</td>\n",
              "      <td>18002.380859</td>\n",
              "      <td>17916.910156</td>\n",
              "      <td>17949.369141</td>\n",
              "      <td>82160000</td>\n",
              "      <td>17949.369141</td>\n",
              "    </tr>\n",
              "    <tr>\n",
              "      <th>1</th>\n",
              "      <td>2016-06-30</td>\n",
              "      <td>17712.759766</td>\n",
              "      <td>17930.609375</td>\n",
              "      <td>17711.800781</td>\n",
              "      <td>17929.990234</td>\n",
              "      <td>133030000</td>\n",
              "      <td>17929.990234</td>\n",
              "    </tr>\n",
              "    <tr>\n",
              "      <th>2</th>\n",
              "      <td>2016-06-29</td>\n",
              "      <td>17456.019531</td>\n",
              "      <td>17704.509766</td>\n",
              "      <td>17456.019531</td>\n",
              "      <td>17694.679688</td>\n",
              "      <td>106380000</td>\n",
              "      <td>17694.679688</td>\n",
              "    </tr>\n",
              "    <tr>\n",
              "      <th>3</th>\n",
              "      <td>2016-06-28</td>\n",
              "      <td>17190.509766</td>\n",
              "      <td>17409.720703</td>\n",
              "      <td>17190.509766</td>\n",
              "      <td>17409.720703</td>\n",
              "      <td>112190000</td>\n",
              "      <td>17409.720703</td>\n",
              "    </tr>\n",
              "    <tr>\n",
              "      <th>4</th>\n",
              "      <td>2016-06-27</td>\n",
              "      <td>17355.210938</td>\n",
              "      <td>17355.210938</td>\n",
              "      <td>17063.080078</td>\n",
              "      <td>17140.240234</td>\n",
              "      <td>138740000</td>\n",
              "      <td>17140.240234</td>\n",
              "    </tr>\n",
              "  </tbody>\n",
              "</table>\n",
              "</div>\n",
              "      <button class=\"colab-df-convert\" onclick=\"convertToInteractive('df-451b354f-8cdd-44a6-8177-d26989c77c03')\"\n",
              "              title=\"Convert this dataframe to an interactive table.\"\n",
              "              style=\"display:none;\">\n",
              "        \n",
              "  <svg xmlns=\"http://www.w3.org/2000/svg\" height=\"24px\"viewBox=\"0 0 24 24\"\n",
              "       width=\"24px\">\n",
              "    <path d=\"M0 0h24v24H0V0z\" fill=\"none\"/>\n",
              "    <path d=\"M18.56 5.44l.94 2.06.94-2.06 2.06-.94-2.06-.94-.94-2.06-.94 2.06-2.06.94zm-11 1L8.5 8.5l.94-2.06 2.06-.94-2.06-.94L8.5 2.5l-.94 2.06-2.06.94zm10 10l.94 2.06.94-2.06 2.06-.94-2.06-.94-.94-2.06-.94 2.06-2.06.94z\"/><path d=\"M17.41 7.96l-1.37-1.37c-.4-.4-.92-.59-1.43-.59-.52 0-1.04.2-1.43.59L10.3 9.45l-7.72 7.72c-.78.78-.78 2.05 0 2.83L4 21.41c.39.39.9.59 1.41.59.51 0 1.02-.2 1.41-.59l7.78-7.78 2.81-2.81c.8-.78.8-2.07 0-2.86zM5.41 20L4 18.59l7.72-7.72 1.47 1.35L5.41 20z\"/>\n",
              "  </svg>\n",
              "      </button>\n",
              "      \n",
              "  <style>\n",
              "    .colab-df-container {\n",
              "      display:flex;\n",
              "      flex-wrap:wrap;\n",
              "      gap: 12px;\n",
              "    }\n",
              "\n",
              "    .colab-df-convert {\n",
              "      background-color: #E8F0FE;\n",
              "      border: none;\n",
              "      border-radius: 50%;\n",
              "      cursor: pointer;\n",
              "      display: none;\n",
              "      fill: #1967D2;\n",
              "      height: 32px;\n",
              "      padding: 0 0 0 0;\n",
              "      width: 32px;\n",
              "    }\n",
              "\n",
              "    .colab-df-convert:hover {\n",
              "      background-color: #E2EBFA;\n",
              "      box-shadow: 0px 1px 2px rgba(60, 64, 67, 0.3), 0px 1px 3px 1px rgba(60, 64, 67, 0.15);\n",
              "      fill: #174EA6;\n",
              "    }\n",
              "\n",
              "    [theme=dark] .colab-df-convert {\n",
              "      background-color: #3B4455;\n",
              "      fill: #D2E3FC;\n",
              "    }\n",
              "\n",
              "    [theme=dark] .colab-df-convert:hover {\n",
              "      background-color: #434B5C;\n",
              "      box-shadow: 0px 1px 3px 1px rgba(0, 0, 0, 0.15);\n",
              "      filter: drop-shadow(0px 1px 2px rgba(0, 0, 0, 0.3));\n",
              "      fill: #FFFFFF;\n",
              "    }\n",
              "  </style>\n",
              "\n",
              "      <script>\n",
              "        const buttonEl =\n",
              "          document.querySelector('#df-451b354f-8cdd-44a6-8177-d26989c77c03 button.colab-df-convert');\n",
              "        buttonEl.style.display =\n",
              "          google.colab.kernel.accessAllowed ? 'block' : 'none';\n",
              "\n",
              "        async function convertToInteractive(key) {\n",
              "          const element = document.querySelector('#df-451b354f-8cdd-44a6-8177-d26989c77c03');\n",
              "          const dataTable =\n",
              "            await google.colab.kernel.invokeFunction('convertToInteractive',\n",
              "                                                     [key], {});\n",
              "          if (!dataTable) return;\n",
              "\n",
              "          const docLinkHtml = 'Like what you see? Visit the ' +\n",
              "            '<a target=\"_blank\" href=https://colab.research.google.com/notebooks/data_table.ipynb>data table notebook</a>'\n",
              "            + ' to learn more about interactive tables.';\n",
              "          element.innerHTML = '';\n",
              "          dataTable['output_type'] = 'display_data';\n",
              "          await google.colab.output.renderOutput(dataTable, element);\n",
              "          const docLink = document.createElement('div');\n",
              "          docLink.innerHTML = docLinkHtml;\n",
              "          element.appendChild(docLink);\n",
              "        }\n",
              "      </script>\n",
              "    </div>\n",
              "  </div>\n",
              "  "
            ]
          },
          "metadata": {},
          "execution_count": 14
        }
      ]
    },
    {
      "cell_type": "code",
      "source": [
        "print(prices)"
      ],
      "metadata": {
        "colab": {
          "base_uri": "https://localhost:8080/"
        },
        "id": "puuJyT-zzW4G",
        "outputId": "d8ac3a5e-bcf8-4ea3-e341-43d784251892"
      },
      "execution_count": null,
      "outputs": [
        {
          "output_type": "stream",
          "name": "stdout",
          "text": [
            "[[17949.369141]\n",
            " [17929.990234]\n",
            " [17694.679688]\n",
            " ...\n",
            " [11642.469727]\n",
            " [11782.349609]\n",
            " [11734.320312]]\n"
          ]
        }
      ]
    },
    {
      "cell_type": "code",
      "source": [
        "# Normalize the data\n",
        "scaler = MinMaxScaler(feature_range=(0, 1))\n",
        "normalized_prices = scaler.fit_transform(prices)"
      ],
      "metadata": {
        "id": "WJRPkgZ9f_z9"
      },
      "execution_count": null,
      "outputs": []
    },
    {
      "cell_type": "code",
      "source": [
        "\n",
        "# Split the data into training and testing sets\n",
        "train_size = int(len(normalized_prices) * 0.8)\n",
        "train_data = normalized_prices[:train_size]\n",
        "test_data = normalized_prices[train_size:]"
      ],
      "metadata": {
        "id": "fmN-Jd8agT--"
      },
      "execution_count": null,
      "outputs": []
    },
    {
      "cell_type": "code",
      "source": [
        "# Function to create a sliding window of data\n",
        "def create_sliding_window(data, window_size):\n",
        "    X, y = [], []\n",
        "    for i in range(len(data) - window_size):\n",
        "        X.append(data[i:i+window_size])\n",
        "        y.append(data[i+window_size])\n",
        "    return np.array(X), np.array(y)\n",
        "\n",
        "# Define the window size and create the sliding windows of data\n",
        "window_size = 20\n",
        "X_train, y_train = create_sliding_window(train_data, window_size)\n",
        "X_test, y_test = create_sliding_window(test_data, window_size)"
      ],
      "metadata": {
        "id": "8Xhgt9iNgYtV"
      },
      "execution_count": null,
      "outputs": []
    },
    {
      "cell_type": "code",
      "source": [
        "# Build the LSTM model\n",
        "model = Sequential([\n",
        "    LSTM(50, input_shape=(window_size, 1)),\n",
        "    Dense(1)\n",
        "])\n"
      ],
      "metadata": {
        "id": "gQbUqdYYgY1I"
      },
      "execution_count": null,
      "outputs": []
    },
    {
      "cell_type": "code",
      "source": [
        "#compile the model\n",
        "model.compile(optimizer='adam', loss='mean_squared_error')\n"
      ],
      "metadata": {
        "id": "SXfnOm32g2Jg"
      },
      "execution_count": null,
      "outputs": []
    },
    {
      "cell_type": "code",
      "source": [
        "\n",
        "# Train the model\n",
        "model.fit(X_train, y_train, epochs=50, batch_size=32)"
      ],
      "metadata": {
        "colab": {
          "base_uri": "https://localhost:8080/"
        },
        "id": "iMLf_0e-g2MC",
        "outputId": "662add47-d80b-43a8-f75c-c798ec918b2d"
      },
      "execution_count": null,
      "outputs": [
        {
          "output_type": "stream",
          "name": "stdout",
          "text": [
            "Epoch 1/50\n",
            "50/50 [==============================] - 3s 10ms/step - loss: 0.1168\n",
            "Epoch 2/50\n",
            "50/50 [==============================] - 1s 10ms/step - loss: 0.0021\n",
            "Epoch 3/50\n",
            "50/50 [==============================] - 1s 11ms/step - loss: 8.6881e-04\n",
            "Epoch 4/50\n",
            "50/50 [==============================] - 1s 12ms/step - loss: 5.4506e-04\n",
            "Epoch 5/50\n",
            "50/50 [==============================] - 1s 16ms/step - loss: 5.0635e-04\n",
            "Epoch 6/50\n",
            "50/50 [==============================] - 1s 16ms/step - loss: 5.0598e-04\n",
            "Epoch 7/50\n",
            "50/50 [==============================] - 1s 18ms/step - loss: 4.9294e-04\n",
            "Epoch 8/50\n",
            "50/50 [==============================] - 1s 12ms/step - loss: 4.8893e-04\n",
            "Epoch 9/50\n",
            "50/50 [==============================] - 1s 10ms/step - loss: 4.9381e-04\n",
            "Epoch 10/50\n",
            "50/50 [==============================] - 1s 10ms/step - loss: 4.8662e-04\n",
            "Epoch 11/50\n",
            "50/50 [==============================] - 1s 10ms/step - loss: 4.9223e-04\n",
            "Epoch 12/50\n",
            "50/50 [==============================] - 1s 11ms/step - loss: 4.7763e-04\n",
            "Epoch 13/50\n",
            "50/50 [==============================] - 1s 11ms/step - loss: 4.9750e-04\n",
            "Epoch 14/50\n",
            "50/50 [==============================] - 1s 11ms/step - loss: 4.7218e-04\n",
            "Epoch 15/50\n",
            "50/50 [==============================] - 1s 10ms/step - loss: 4.6005e-04\n",
            "Epoch 16/50\n",
            "50/50 [==============================] - 1s 11ms/step - loss: 4.5974e-04\n",
            "Epoch 17/50\n",
            "50/50 [==============================] - 1s 11ms/step - loss: 4.5720e-04\n",
            "Epoch 18/50\n",
            "50/50 [==============================] - 1s 10ms/step - loss: 4.6861e-04\n",
            "Epoch 19/50\n",
            "50/50 [==============================] - 1s 11ms/step - loss: 4.6271e-04\n",
            "Epoch 20/50\n",
            "50/50 [==============================] - 1s 11ms/step - loss: 4.6294e-04\n",
            "Epoch 21/50\n",
            "50/50 [==============================] - 1s 11ms/step - loss: 4.6947e-04\n",
            "Epoch 22/50\n",
            "50/50 [==============================] - 1s 10ms/step - loss: 4.4390e-04\n",
            "Epoch 23/50\n",
            "50/50 [==============================] - 1s 10ms/step - loss: 4.7191e-04\n",
            "Epoch 24/50\n",
            "50/50 [==============================] - 1s 11ms/step - loss: 4.4348e-04\n",
            "Epoch 25/50\n",
            "50/50 [==============================] - 1s 11ms/step - loss: 4.2050e-04\n",
            "Epoch 26/50\n",
            "50/50 [==============================] - 1s 10ms/step - loss: 4.0900e-04\n",
            "Epoch 27/50\n",
            "50/50 [==============================] - 1s 17ms/step - loss: 4.2008e-04\n",
            "Epoch 28/50\n",
            "50/50 [==============================] - 1s 17ms/step - loss: 4.2521e-04\n",
            "Epoch 29/50\n",
            "50/50 [==============================] - 1s 16ms/step - loss: 4.0606e-04\n",
            "Epoch 30/50\n",
            "50/50 [==============================] - 1s 14ms/step - loss: 3.9426e-04\n",
            "Epoch 31/50\n",
            "50/50 [==============================] - 1s 10ms/step - loss: 4.0943e-04\n",
            "Epoch 32/50\n",
            "50/50 [==============================] - 1s 11ms/step - loss: 3.9737e-04\n",
            "Epoch 33/50\n",
            "50/50 [==============================] - 1s 12ms/step - loss: 4.0073e-04\n",
            "Epoch 34/50\n",
            "50/50 [==============================] - 1s 11ms/step - loss: 4.2199e-04\n",
            "Epoch 35/50\n",
            "50/50 [==============================] - 1s 11ms/step - loss: 3.7364e-04\n",
            "Epoch 36/50\n",
            "50/50 [==============================] - 1s 11ms/step - loss: 3.6698e-04\n",
            "Epoch 37/50\n",
            "50/50 [==============================] - 1s 10ms/step - loss: 3.6559e-04\n",
            "Epoch 38/50\n",
            "50/50 [==============================] - 1s 11ms/step - loss: 3.6604e-04\n",
            "Epoch 39/50\n",
            "50/50 [==============================] - 0s 10ms/step - loss: 3.5547e-04\n",
            "Epoch 40/50\n",
            "50/50 [==============================] - 1s 10ms/step - loss: 4.6333e-04\n",
            "Epoch 41/50\n",
            "50/50 [==============================] - 0s 10ms/step - loss: 3.6016e-04\n",
            "Epoch 42/50\n",
            "50/50 [==============================] - 1s 10ms/step - loss: 3.5595e-04\n",
            "Epoch 43/50\n",
            "50/50 [==============================] - 1s 11ms/step - loss: 3.8233e-04\n",
            "Epoch 44/50\n",
            "50/50 [==============================] - 0s 10ms/step - loss: 3.4821e-04\n",
            "Epoch 45/50\n",
            "50/50 [==============================] - 0s 10ms/step - loss: 3.4140e-04\n",
            "Epoch 46/50\n",
            "50/50 [==============================] - 1s 10ms/step - loss: 3.9362e-04\n",
            "Epoch 47/50\n",
            "50/50 [==============================] - 1s 10ms/step - loss: 3.4786e-04\n",
            "Epoch 48/50\n",
            "50/50 [==============================] - 0s 10ms/step - loss: 4.1361e-04\n",
            "Epoch 49/50\n",
            "50/50 [==============================] - 1s 12ms/step - loss: 3.2360e-04\n",
            "Epoch 50/50\n",
            "50/50 [==============================] - 1s 16ms/step - loss: 3.4815e-04\n"
          ]
        },
        {
          "output_type": "execute_result",
          "data": {
            "text/plain": [
              "<keras.callbacks.History at 0x7fa0c857f400>"
            ]
          },
          "metadata": {},
          "execution_count": 9
        }
      ]
    },
    {
      "cell_type": "code",
      "source": [
        "# Evaluate the model on the testing data\n",
        "train_loss = model.evaluate(X_train, y_train, verbose=0)\n",
        "test_loss = model.evaluate(X_test, y_test, verbose=0)\n",
        "print(f\"Training loss: {train_loss:.4f}\")\n",
        "print(f\"Testing loss: {test_loss:.4f}\")\n"
      ],
      "metadata": {
        "colab": {
          "base_uri": "https://localhost:8080/"
        },
        "id": "gnU25Xp_g5_H",
        "outputId": "ccac1407-f1ad-4e31-e336-5f767e5c140e"
      },
      "execution_count": null,
      "outputs": [
        {
          "output_type": "stream",
          "name": "stdout",
          "text": [
            "Training loss: 0.6868\n",
            "Testing loss: 0.0809\n"
          ]
        }
      ]
    },
    {
      "cell_type": "code",
      "source": [
        "# Make predictions on the testing data\n",
        "y_pred = model.predict(X_test)"
      ],
      "metadata": {
        "colab": {
          "base_uri": "https://localhost:8080/"
        },
        "id": "twAHo_HUg999",
        "outputId": "d71bbd18-0710-4063-feb6-7c876b172dee"
      },
      "execution_count": null,
      "outputs": [
        {
          "output_type": "stream",
          "name": "stdout",
          "text": [
            "12/12 [==============================] - 1s 4ms/step\n"
          ]
        }
      ]
    },
    {
      "cell_type": "code",
      "source": [
        "# Rescale the data back to the original range\n",
        "y_test_rescaled = scaler.inverse_transform(y_test)\n",
        "y_pred_rescaled = scaler.inverse_transform(y_pred)\n",
        "\n",
        "# Plot the actual and predicted prices\n",
        "plt.plot(y_test_rescaled, label='Actual')\n",
        "plt.plot(y_pred_rescaled, label='Predicted')\n",
        "plt.xlabel('Time')\n",
        "plt.ylabel('Stock Price')\n",
        "plt.legend()\n",
        "plt.show()"
      ],
      "metadata": {
        "colab": {
          "base_uri": "https://localhost:8080/",
          "height": 450
        },
        "id": "aI5Y2O7Dg_QR",
        "outputId": "ed7630ad-0454-485d-936f-213e8c7d1744"
      },
      "execution_count": null,
      "outputs": [
        {
          "output_type": "display_data",
          "data": {
            "text/plain": [
              "<Figure size 640x480 with 1 Axes>"
            ],
            "image/png": "[encoded data removed]"
          },
          "metadata": {}
        }
      ]
    },
    {
      "cell_type": "code",
      "source": [],
      "metadata": {
        "id": "YmCbsomQ3zso"
      },
      "execution_count": null,
      "outputs": []
    }
  ]
}